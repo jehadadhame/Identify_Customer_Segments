{
 "cells": [
  {
   "cell_type": "code",
   "execution_count": 1,
   "metadata": {},
   "outputs": [],
   "source": [
    "# import libraries here; add more as necessary\n",
    "import numpy as np\n",
    "import pandas as pd\n",
    "import matplotlib.pyplot as plt\n",
    "import seaborn as sns\n",
    "\n",
    "import sklearn\n",
    "from sklearn.preprocessing import OneHotEncoder\n",
    "from sklearn.impute import SimpleImputer\n",
    "from helper_function import *\n",
    "# magic word for producing visualizations in notebook\n",
    "%matplotlib inline\n",
    "plt.style.use('ggplot')\n",
    "from sklearn.impute import SimpleImputer\n",
    "from sklearn.preprocessing import StandardScaler\n",
    "from sklearn.decomposition import PCA\n",
    "from sklearn.cluster import KMeans\n",
    "\n",
    "from constant import *\n",
    "pd.options.display.max_rows = None\n",
    "pd.options.display.max_columns = None\n",
    "import warnings\n",
    "warnings.filterwarnings('ignore')"
   ]
  },
  {
   "cell_type": "code",
   "execution_count": 44,
   "metadata": {},
   "outputs": [],
   "source": [
    "# Load in the general demographics data.\n",
    "AZDIAS_df = pd.read_csv(\"Udacity_AZDIAS_Subset.csv\", delimiter=';')\n",
    "\n",
    "# Load in the feature summary file.\n",
    "AZDIAS_Feature_Summary = pd.read_csv(\"AZDIAS_Feature_Summary.csv\", delimiter=';')"
   ]
  },
  {
   "cell_type": "code",
   "execution_count": 3,
   "metadata": {},
   "outputs": [],
   "source": [
    "feature_missin_values = {}\n",
    "for i in range(AZDIAS_Feature_Summary.shape[0]):\n",
    "    key = AZDIAS_Feature_Summary.iloc[i][0]\n",
    "    missing_value_str = AZDIAS_Feature_Summary.iloc[i][3]\n",
    "    # print(missing_value_str)\n",
    "    missing_value_list = extract_elements(missing_value_str)\n",
    "    feature_missin_values[key] = missing_value_list\n",
    "    # break"
   ]
  },
  {
   "cell_type": "code",
   "execution_count": 4,
   "metadata": {},
   "outputs": [],
   "source": [
    "for feature_name, missing_value_list in feature_missin_values.items():\n",
    "    AZDIAS_df[feature_name] = AZDIAS_df[feature_name].replace(missing_value_list, np.nan)"
   ]
  },
  {
   "cell_type": "code",
   "execution_count": 5,
   "metadata": {},
   "outputs": [],
   "source": [
    "missing_data_proportion = AZDIAS_df.isna().mean()\n",
    "columns_to_drop = missing_data_proportion[missing_data_proportion > 0.4]\n",
    "AZDIAS_df.drop(columns_to_drop.index, axis=1, inplace=True)"
   ]
  },
  {
   "cell_type": "code",
   "execution_count": 6,
   "metadata": {},
   "outputs": [],
   "source": [
    "AZDIAS_df = AZDIAS_df[AZDIAS_df.isna().mean(axis=1) <= 0.3]"
   ]
  },
  {
   "cell_type": "code",
   "execution_count": 7,
   "metadata": {},
   "outputs": [],
   "source": [
    "feature_need_reEncoding = ['ANREDE_KZ', 'VERS_TYP', 'OST_WEST_KZ', 'NATIONALITAET_KZ', 'SHOPPER_TYP', 'GEBAEUDETYP', 'CAMEO_DEUG_2015', 'GFK_URLAUBERTYP', 'CAMEO_DEU_2015']\n",
    "AZDIAS_df = pd.get_dummies(AZDIAS_df, columns=feature_need_reEncoding)\n"
   ]
  },
  {
   "cell_type": "code",
   "execution_count": 8,
   "metadata": {},
   "outputs": [],
   "source": [
    "AZDIAS_df['PRAEGENDE_JUGENDJAHRE_decade'] = AZDIAS_df['PRAEGENDE_JUGENDJAHRE'].map(decade_map)\n",
    "AZDIAS_df['PRAEGENDE_JUGENDJAHRE_movement'] = AZDIAS_df['PRAEGENDE_JUGENDJAHRE'].map(movement_map)\n",
    "AZDIAS_df.drop('PRAEGENDE_JUGENDJAHRE', axis=1, inplace=True)"
   ]
  },
  {
   "cell_type": "code",
   "execution_count": 9,
   "metadata": {},
   "outputs": [],
   "source": [
    "AZDIAS_df['CAMEO_INTL_2015_wealth'] = pd.to_numeric(AZDIAS_df['CAMEO_INTL_2015'].str[0])\n",
    "AZDIAS_df['CAMEO_INTL_2015_lifeStage'] = pd.to_numeric(AZDIAS_df['CAMEO_INTL_2015'].str[1])\n",
    "AZDIAS_df.drop('CAMEO_INTL_2015', axis=1, inplace=True)\n"
   ]
  },
  {
   "cell_type": "code",
   "execution_count": 10,
   "metadata": {},
   "outputs": [],
   "source": [
    "bool_columns = AZDIAS_df.select_dtypes(include='bool').columns\n",
    "AZDIAS_df[bool_columns] = AZDIAS_df[bool_columns].astype(int)"
   ]
  },
  {
   "cell_type": "code",
   "execution_count": 11,
   "metadata": {},
   "outputs": [],
   "source": [
    "float_columns = AZDIAS_df.select_dtypes(include='float').columns\n",
    "# AZDIAS_df[float_columns] = AZDIAS_df[float_columns].astype(int)"
   ]
  },
  {
   "cell_type": "code",
   "execution_count": 12,
   "metadata": {},
   "outputs": [],
   "source": [
    "imp_mean = SimpleImputer(missing_values=np.nan, strategy='mean')\n",
    "imp_mean.set_output(transform='pandas')\n",
    "AZDIAS_df = imp_mean.fit_transform(AZDIAS_df)\n"
   ]
  },
  {
   "cell_type": "code",
   "execution_count": 13,
   "metadata": {},
   "outputs": [],
   "source": [
    "scaler = StandardScaler()\n",
    "scaler.set_output(transform='pandas')\n",
    "AZDIAS_df = scaler.fit_transform(AZDIAS_df)\n"
   ]
  },
  {
   "cell_type": "code",
   "execution_count": 14,
   "metadata": {},
   "outputs": [],
   "source": [
    "num_components_90 = 82\n",
    "pca = PCA(n_components=num_components_90)\n",
    "AZDIAS_df_pca = pca.fit_transform(AZDIAS_df)\n"
   ]
  },
  {
   "cell_type": "code",
   "execution_count": 15,
   "metadata": {},
   "outputs": [],
   "source": [
    "optimal_k = 10  \n",
    "\n",
    "kmeans = KMeans(n_clusters=optimal_k, random_state=42, n_init=10)\n",
    "AZDIAS_clusters = kmeans.fit_predict(AZDIAS_df_pca)  \n",
    "\n",
    "AZDIAS_df[\"Cluster\"] = AZDIAS_clusters"
   ]
  },
  {
   "cell_type": "code",
   "execution_count": 36,
   "metadata": {},
   "outputs": [
    {
     "data": {
      "image/png": "[encoded data removed]",
      "text/plain": [
       "<Figure size 1000x600 with 1 Axes>"
      ]
     },
     "metadata": {},
     "output_type": "display_data"
    }
   ],
   "source": [
    "CUSTOMERS_df = pd.read_csv('Udacity_CUSTOMERS_Subset.csv', sep=';')\n",
    "CUSTOMERS_df = clean_data(CUSTOMERS_df, feature_missin_values)"
   ]
  },
  {
   "cell_type": "code",
   "execution_count": 37,
   "metadata": {},
   "outputs": [
    {
     "name": "stdout",
     "output_type": "stream",
     "text": [
      "GEBAEUDETYP_5.0\n",
      "Cluster\n"
     ]
    }
   ],
   "source": [
    "customer_columns = CUSTOMERS_df.columns\n",
    "population_columns = 1.columns\n",
    "\n",
    "for col in customer_columns:\n",
    "  if col not in population_columns:\n",
    "    print(col)\n",
    "\n",
    "for col in population_columns:\n",
    "  if col not in customer_columns:\n",
    "    print(col)"
   ]
  },
  {
   "cell_type": "code",
   "execution_count": 38,
   "metadata": {},
   "outputs": [
    {
     "data": {
      "text/plain": [
       "'Cluster'"
      ]
     },
     "execution_count": 38,
     "metadata": {},
     "output_type": "execute_result"
    }
   ],
   "source": [
    "population_columns[-1]"
   ]
  },
  {
   "cell_type": "code",
   "execution_count": 39,
   "metadata": {},
   "outputs": [],
   "source": [
    "CUSTOMERS_df['GEBAEUDETYP_5.0'] = 0"
   ]
  },
  {
   "cell_type": "code",
   "execution_count": 40,
   "metadata": {},
   "outputs": [],
   "source": [
    "CUSTOMERS_df = CUSTOMERS_df[population_columns[0:-1]]"
   ]
  },
  {
   "cell_type": "code",
   "execution_count": 41,
   "metadata": {},
   "outputs": [],
   "source": [
    "scaler.set_output(transform='pandas')\n",
    "CUSTOMERS_df = scaler.transform(CUSTOMERS_df)"
   ]
  },
  {
   "cell_type": "code",
   "execution_count": 42,
   "metadata": {},
   "outputs": [],
   "source": [
    "CUSTOMERS_df_pca = pca.transform(CUSTOMERS_df)"
   ]
  },
  {
   "cell_type": "code",
   "execution_count": 43,
   "metadata": {},
   "outputs": [],
   "source": [
    "CUSTOMER_clusters = kmeans.predict(CUSTOMERS_df_pca)  \n",
    "CUSTOMERS_df[\"Cluster\"] = CUSTOMER_clusters"
   ]
  },
  {
   "cell_type": "code",
   "execution_count": 3,
   "metadata": {},
   "outputs": [],
   "source": [
    "import nbformat"
   ]
  },
  {
   "cell_type": "code",
   "execution_count": 6,
   "metadata": {},
   "outputs": [
    {
     "data": {
      "text/plain": [
       "(1, 0, 0)"
      ]
     },
     "execution_count": 6,
     "metadata": {},
     "output_type": "execute_result"
    }
   ],
   "source": [
    "# Load the newly uploaded Jupyter Notebook\n",
    "notebook_path = \"Identify_Customer_Segments.ipynb\"\n",
    "\n",
    "with open(notebook_path, \"r\", encoding=\"utf-8\") as f:\n",
    "    nb_content = nbformat.read(f, as_version=4)\n",
    "\n",
    "# Extract all cells for review\n",
    "cells = nb_content[\"cells\"]\n",
    "\n",
    "# Check for clean_data function updates\n",
    "clean_data_function = [cell for cell in cells if \"def clean_data\" in cell[\"source\"].lower()]\n",
    "\n",
    "# Check for imputer fitting outside the function\n",
    "imputer_fitting = [cell for cell in cells if \"imputer.fit\" in cell[\"source\"].lower()]\n",
    "\n",
    "# Check for application of imputer to customer data\n",
    "imputer_application = [cell for cell in cells if \"imputer.transform\" in cell[\"source\"].lower()]\n",
    "\n",
    "# Return the number of occurrences for verification\n",
    "len(clean_data_function), len(imputer_fitting), len(imputer_application)\n"
   ]
  }
 ],
 "metadata": {
  "kernelspec": {
   "display_name": "base",
   "language": "python",
   "name": "python3"
  },
  "language_info": {
   "codemirror_mode": {
    "name": "ipython",
    "version": 3
   },
   "file_extension": ".py",
   "mimetype": "text/x-python",
   "name": "python",
   "nbconvert_exporter": "python",
   "pygments_lexer": "ipython3",
   "version": "3.12.4"
  }
 },
 "nbformat": 4,
 "nbformat_minor": 2
}
